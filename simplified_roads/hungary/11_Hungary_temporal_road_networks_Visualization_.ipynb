{
  "nbformat": 4,
  "nbformat_minor": 0,
  "metadata": {
    "colab": {
      "name": "11-Hungary temporal road networks Visualization .ipynb",
      "provenance": [],
      "collapsed_sections": []
    },
    "kernelspec": {
      "name": "python3",
      "display_name": "Python 3"
    },
    "language_info": {
      "name": "python"
    }
  },
  "cells": [
    {
      "cell_type": "markdown",
      "source": [
        "#Importing libraries and data"
      ],
      "metadata": {
        "id": "EcrVM1lE1UR5"
      }
    },
    {
      "cell_type": "code",
      "source": [
        "! pip install osmnx\n",
        "! pip install geopandas\n",
        "!pip install pygeos"
      ],
      "metadata": {
        "id": "qtZuNJAavmeE"
      },
      "execution_count": null,
      "outputs": []
    },
    {
      "cell_type": "code",
      "execution_count": 43,
      "metadata": {
        "id": "TE6kRundu_OC"
      },
      "outputs": [],
      "source": [
        "import pandas as pd\n",
        "import geopandas as gpd\n",
        "import matplotlib.pyplot as plt\n",
        "from ast import literal_eval\n",
        "import osmnx as ox\n",
        "from shapely.geometry import Polygon\n",
        "import seaborn as sns\n",
        "import numpy as np\n",
        "from shapely.geometry import Point, LineString, shape"
      ]
    },
    {
      "cell_type": "code",
      "source": [
        "!python -m pip uninstall matplotlib\n",
        "!!pip install matplotlib==3.1.3"
      ],
      "metadata": {
        "id": "9MzhmEXpwwd2"
      },
      "execution_count": null,
      "outputs": []
    },
    {
      "cell_type": "code",
      "source": [
        "# reading road construction polygons\n",
        "road_construction = pd.read_csv('hungary_road_construction.csv',sep=\";\",index_col=None,header=None)\n",
        "road_construction.columns = [\"name\",\"year\",\"month\",\"day\",\"points\"]\n",
        "road_construction.head()"
      ],
      "metadata": {
        "colab": {
          "base_uri": "https://localhost:8080/",
          "height": 206
        },
        "id": "KP-sty0Yv3hO",
        "outputId": "8fae550d-942b-4898-bb5a-250b04f82c47"
      },
      "execution_count": 69,
      "outputs": [
        {
          "output_type": "execute_result",
          "data": {
            "text/html": [
              "\n",
              "  <div id=\"df-fe744bbe-fcd0-4dfb-b089-91c39323bb62\">\n",
              "    <div class=\"colab-df-container\">\n",
              "      <div>\n",
              "<style scoped>\n",
              "    .dataframe tbody tr th:only-of-type {\n",
              "        vertical-align: middle;\n",
              "    }\n",
              "\n",
              "    .dataframe tbody tr th {\n",
              "        vertical-align: top;\n",
              "    }\n",
              "\n",
              "    .dataframe thead th {\n",
              "        text-align: right;\n",
              "    }\n",
              "</style>\n",
              "<table border=\"1\" class=\"dataframe\">\n",
              "  <thead>\n",
              "    <tr style=\"text-align: right;\">\n",
              "      <th></th>\n",
              "      <th>name</th>\n",
              "      <th>year</th>\n",
              "      <th>month</th>\n",
              "      <th>day</th>\n",
              "      <th>points</th>\n",
              "    </tr>\n",
              "  </thead>\n",
              "  <tbody>\n",
              "    <tr>\n",
              "      <th>0</th>\n",
              "      <td>Polgári Tisza-hid</td>\n",
              "      <td>2002</td>\n",
              "      <td>10.0</td>\n",
              "      <td>1.0</td>\n",
              "      <td>[[21.0552074392,47.8535623743],[21.0510017355,...</td>\n",
              "    </tr>\n",
              "    <tr>\n",
              "      <th>1</th>\n",
              "      <td>Szekszard Szent Laszlo-hid</td>\n",
              "      <td>2003</td>\n",
              "      <td>7.0</td>\n",
              "      <td>4.0</td>\n",
              "      <td>[[18.8875748594,46.3498790197],[18.887274452,4...</td>\n",
              "    </tr>\n",
              "    <tr>\n",
              "      <th>2</th>\n",
              "      <td>Dunaujvaros Pentele-hid</td>\n",
              "      <td>2007</td>\n",
              "      <td>7.0</td>\n",
              "      <td>23.0</td>\n",
              "      <td>[[18.9884702044,46.8892504416],[18.9010945635,...</td>\n",
              "    </tr>\n",
              "    <tr>\n",
              "      <th>3</th>\n",
              "      <td>M3 Fuzesabony-Polgar</td>\n",
              "      <td>2002</td>\n",
              "      <td>NaN</td>\n",
              "      <td>NaN</td>\n",
              "      <td>[[20.4282135249,47.7251911319],[20.4055542231,...</td>\n",
              "    </tr>\n",
              "    <tr>\n",
              "      <th>4</th>\n",
              "      <td>M3 Polgar-Gorbehaza</td>\n",
              "      <td>2004</td>\n",
              "      <td>9.0</td>\n",
              "      <td>NaN</td>\n",
              "      <td>[[21.2596564086,47.7818136227],[21.1813788207,...</td>\n",
              "    </tr>\n",
              "  </tbody>\n",
              "</table>\n",
              "</div>\n",
              "      <button class=\"colab-df-convert\" onclick=\"convertToInteractive('df-fe744bbe-fcd0-4dfb-b089-91c39323bb62')\"\n",
              "              title=\"Convert this dataframe to an interactive table.\"\n",
              "              style=\"display:none;\">\n",
              "        \n",
              "  <svg xmlns=\"http://www.w3.org/2000/svg\" height=\"24px\"viewBox=\"0 0 24 24\"\n",
              "       width=\"24px\">\n",
              "    <path d=\"M0 0h24v24H0V0z\" fill=\"none\"/>\n",
              "    <path d=\"M18.56 5.44l.94 2.06.94-2.06 2.06-.94-2.06-.94-.94-2.06-.94 2.06-2.06.94zm-11 1L8.5 8.5l.94-2.06 2.06-.94-2.06-.94L8.5 2.5l-.94 2.06-2.06.94zm10 10l.94 2.06.94-2.06 2.06-.94-2.06-.94-.94-2.06-.94 2.06-2.06.94z\"/><path d=\"M17.41 7.96l-1.37-1.37c-.4-.4-.92-.59-1.43-.59-.52 0-1.04.2-1.43.59L10.3 9.45l-7.72 7.72c-.78.78-.78 2.05 0 2.83L4 21.41c.39.39.9.59 1.41.59.51 0 1.02-.2 1.41-.59l7.78-7.78 2.81-2.81c.8-.78.8-2.07 0-2.86zM5.41 20L4 18.59l7.72-7.72 1.47 1.35L5.41 20z\"/>\n",
              "  </svg>\n",
              "      </button>\n",
              "      \n",
              "  <style>\n",
              "    .colab-df-container {\n",
              "      display:flex;\n",
              "      flex-wrap:wrap;\n",
              "      gap: 12px;\n",
              "    }\n",
              "\n",
              "    .colab-df-convert {\n",
              "      background-color: #E8F0FE;\n",
              "      border: none;\n",
              "      border-radius: 50%;\n",
              "      cursor: pointer;\n",
              "      display: none;\n",
              "      fill: #1967D2;\n",
              "      height: 32px;\n",
              "      padding: 0 0 0 0;\n",
              "      width: 32px;\n",
              "    }\n",
              "\n",
              "    .colab-df-convert:hover {\n",
              "      background-color: #E2EBFA;\n",
              "      box-shadow: 0px 1px 2px rgba(60, 64, 67, 0.3), 0px 1px 3px 1px rgba(60, 64, 67, 0.15);\n",
              "      fill: #174EA6;\n",
              "    }\n",
              "\n",
              "    [theme=dark] .colab-df-convert {\n",
              "      background-color: #3B4455;\n",
              "      fill: #D2E3FC;\n",
              "    }\n",
              "\n",
              "    [theme=dark] .colab-df-convert:hover {\n",
              "      background-color: #434B5C;\n",
              "      box-shadow: 0px 1px 3px 1px rgba(0, 0, 0, 0.15);\n",
              "      filter: drop-shadow(0px 1px 2px rgba(0, 0, 0, 0.3));\n",
              "      fill: #FFFFFF;\n",
              "    }\n",
              "  </style>\n",
              "\n",
              "      <script>\n",
              "        const buttonEl =\n",
              "          document.querySelector('#df-fe744bbe-fcd0-4dfb-b089-91c39323bb62 button.colab-df-convert');\n",
              "        buttonEl.style.display =\n",
              "          google.colab.kernel.accessAllowed ? 'block' : 'none';\n",
              "\n",
              "        async function convertToInteractive(key) {\n",
              "          const element = document.querySelector('#df-fe744bbe-fcd0-4dfb-b089-91c39323bb62');\n",
              "          const dataTable =\n",
              "            await google.colab.kernel.invokeFunction('convertToInteractive',\n",
              "                                                     [key], {});\n",
              "          if (!dataTable) return;\n",
              "\n",
              "          const docLinkHtml = 'Like what you see? Visit the ' +\n",
              "            '<a target=\"_blank\" href=https://colab.research.google.com/notebooks/data_table.ipynb>data table notebook</a>'\n",
              "            + ' to learn more about interactive tables.';\n",
              "          element.innerHTML = '';\n",
              "          dataTable['output_type'] = 'display_data';\n",
              "          await google.colab.output.renderOutput(dataTable, element);\n",
              "          const docLink = document.createElement('div');\n",
              "          docLink.innerHTML = docLinkHtml;\n",
              "          element.appendChild(docLink);\n",
              "        }\n",
              "      </script>\n",
              "    </div>\n",
              "  </div>\n",
              "  "
            ],
            "text/plain": [
              "                         name  year  month   day  \\\n",
              "0           Polgári Tisza-hid  2002   10.0   1.0   \n",
              "1  Szekszard Szent Laszlo-hid  2003    7.0   4.0   \n",
              "2     Dunaujvaros Pentele-hid  2007    7.0  23.0   \n",
              "3        M3 Fuzesabony-Polgar  2002    NaN   NaN   \n",
              "4         M3 Polgar-Gorbehaza  2004    9.0   NaN   \n",
              "\n",
              "                                              points  \n",
              "0  [[21.0552074392,47.8535623743],[21.0510017355,...  \n",
              "1  [[18.8875748594,46.3498790197],[18.887274452,4...  \n",
              "2  [[18.9884702044,46.8892504416],[18.9010945635,...  \n",
              "3  [[20.4282135249,47.7251911319],[20.4055542231,...  \n",
              "4  [[21.2596564086,47.7818136227],[21.1813788207,...  "
            ]
          },
          "metadata": {},
          "execution_count": 69
        }
      ]
    },
    {
      "cell_type": "markdown",
      "source": [
        " we don't need the columns month and day so I will remove them!"
      ],
      "metadata": {
        "id": "KRs4gLXZxWmP"
      }
    },
    {
      "cell_type": "code",
      "source": [
        "road_construction.drop(columns=['month' , 'day'] , inplace=True)\n",
        "#Years were string I changed them to int\n",
        "road_construction.year=road_construction.year.map(int)\n",
        "# converting list of list strings to actual Python objects\n",
        "road_construction[\"points\"] = road_construction[\"points\"].map(literal_eval)"
      ],
      "metadata": {
        "id": "rkICradUy35j"
      },
      "execution_count": 70,
      "outputs": []
    },
    {
      "cell_type": "code",
      "source": [
        "#Load the data that Eszter prepared\n",
        "Gs = ox.io.load_graphml(filepath='hungary_main_roads.graphml')\n",
        "nodes, edges = ox.graph_to_gdfs(Gs)"
      ],
      "metadata": {
        "id": "9p6RyGYpffsd"
      },
      "execution_count": null,
      "outputs": []
    },
    {
      "cell_type": "code",
      "source": [
        "# Convert that to geodataframe and use shapley to convert roads to line string\n",
        "gdf = gpd.GeoDataFrame(road_construction, crs={'init': 'EPSG:4326'}, geometry=road_construction['points'].apply(lambda x: LineString(x)))\n",
        "#delete column which is not needed\n",
        "gdf.drop(columns=['points'], inplace=True)\n",
        "#Join left the constructions to bring the year column\n",
        "intersections = gpd.sjoin(edges, gdf, how='left')\n",
        "#Values that are NAN to -100000 to make it workable\n",
        "intersections.year.fillna(-100000, inplace=True)\n",
        "#make a new graph\n",
        "GG=ox.graph_from_gdfs(nodes, intersections)"
      ],
      "metadata": {
        "id": "3Ve7k_6vOB0E"
      },
      "execution_count": 105,
      "outputs": []
    },
    {
      "cell_type": "code",
      "source": [
        "!mkdir data"
      ],
      "metadata": {
        "id": "bl9DTM-kRsZe"
      },
      "execution_count": 119,
      "outputs": []
    },
    {
      "cell_type": "code",
      "source": [
        "import matplotlib as mpl\n",
        "cmap = mpl.cm.get_cmap('viridis')\n",
        "norm = mpl.colors.Normalize(vmin=50,vmax=130)\n",
        "sm = mpl.cm.ScalarMappable(norm=norm, cmap=cmap)\n",
        "sm.set_array([])\n",
        "for j in range(2002, 2013):\n",
        "  fig, ax = ox.plot_graph(GG,node_color='k',edge_color=['r' if intersections.iloc[i].year>j else intersections.iloc[i].speedcolor for i in range(len(intersections))], show=False, edge_linewidth=10, bgcolor = 'white', figsize=(30, 20))\n",
        "  cbar = fig.colorbar(mpl.cm.ScalarMappable(norm=norm, cmap=cmap),shrink=0.65)\n",
        "  cbar.set_label('Route Max speed', fontsize = 30)\n",
        "  cbar.ax.tick_params(labelsize=25)\n",
        "  ax.set_title('Year %s'%j, fontsize=50)\n",
        "  fig.savefig('data/%s.png'%j, dpi=100 )"
      ],
      "metadata": {
        "id": "K21EozouS-Ue"
      },
      "execution_count": null,
      "outputs": []
    },
    {
      "cell_type": "markdown",
      "source": [
        "creat .gif for our work"
      ],
      "metadata": {
        "id": "wXsTgpZigUYd"
      }
    },
    {
      "cell_type": "code",
      "source": [
        "import imageio\n",
        "images = []\n",
        "for year in range(2002 ,2013):\n",
        "    images.append(imageio.imread('data/%s.png'%year))\n",
        "imageio.mimsave('movie.gif', images, duration=1 )"
      ],
      "metadata": {
        "id": "RvUuXJxWcPrQ"
      },
      "execution_count": 152,
      "outputs": []
    },
    {
      "cell_type": "code",
      "source": [
        "!zip -r /content/hungary_road_construction.zip /content/data"
      ],
      "metadata": {
        "id": "EMhRdpdRg9wr"
      },
      "execution_count": null,
      "outputs": []
    }
  ]
}