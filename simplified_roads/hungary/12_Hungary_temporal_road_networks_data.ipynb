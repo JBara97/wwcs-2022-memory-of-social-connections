{
  "cells": [
    {
      "cell_type": "markdown",
      "metadata": {
        "id": "EcrVM1lE1UR5"
      },
      "source": [
        "#Importing libraries and data"
      ]
    },
    {
      "cell_type": "code",
      "execution_count": null,
      "metadata": {
        "id": "qtZuNJAavmeE"
      },
      "outputs": [],
      "source": [
        "!pip install osmnx\n",
        "!pip install geopandas\n",
        "!pip install pygeos"
      ]
    },
    {
      "cell_type": "code",
      "execution_count": null,
      "metadata": {
        "id": "9MzhmEXpwwd2"
      },
      "outputs": [],
      "source": [
        "!python -m pip uninstall matplotlib\n",
        "!!pip install matplotlib==3.1.3"
      ]
    },
    {
      "cell_type": "code",
      "execution_count": 4,
      "metadata": {
        "colab": {
          "base_uri": "https://localhost:8080/"
        },
        "id": "TE6kRundu_OC",
        "outputId": "872d546d-2513-42e9-c7e6-5b4cc911dcd2"
      },
      "outputs": [
        {
          "output_type": "stream",
          "name": "stderr",
          "text": [
            "/usr/local/lib/python3.7/dist-packages/geopandas/_compat.py:115: UserWarning: The Shapely GEOS version (3.10.2-CAPI-1.16.0) is incompatible with the GEOS version PyGEOS was compiled with (3.10.1-CAPI-1.16.0). Conversions between both will be slow.\n",
            "  shapely_geos_version, geos_capi_version_string\n"
          ]
        }
      ],
      "source": [
        "#mandatory for datascience and ploting\n",
        "import pandas as pd\n",
        "import numpy as np\n",
        "import matplotlib.pyplot as plt\n",
        "import seaborn as sns\n",
        "import matplotlib as mpl\n",
        "#For geographical use\n",
        "import geopandas as gpd\n",
        "from ast import literal_eval\n",
        "import osmnx as ox\n",
        "from shapely.geometry import Point, LineString, shape"
      ]
    },
    {
      "cell_type": "code",
      "execution_count": 5,
      "metadata": {
        "colab": {
          "base_uri": "https://localhost:8080/",
          "height": 206
        },
        "id": "KP-sty0Yv3hO",
        "outputId": "54d5ce47-9240-4232-ce50-b08df8eb2c7c"
      },
      "outputs": [
        {
          "output_type": "execute_result",
          "data": {
            "text/html": [
              "\n",
              "  <div id=\"df-a5d6483c-0813-4199-bb12-709286ed405b\">\n",
              "    <div class=\"colab-df-container\">\n",
              "      <div>\n",
              "<style scoped>\n",
              "    .dataframe tbody tr th:only-of-type {\n",
              "        vertical-align: middle;\n",
              "    }\n",
              "\n",
              "    .dataframe tbody tr th {\n",
              "        vertical-align: top;\n",
              "    }\n",
              "\n",
              "    .dataframe thead th {\n",
              "        text-align: right;\n",
              "    }\n",
              "</style>\n",
              "<table border=\"1\" class=\"dataframe\">\n",
              "  <thead>\n",
              "    <tr style=\"text-align: right;\">\n",
              "      <th></th>\n",
              "      <th>name</th>\n",
              "      <th>year</th>\n",
              "      <th>month</th>\n",
              "      <th>day</th>\n",
              "      <th>points</th>\n",
              "    </tr>\n",
              "  </thead>\n",
              "  <tbody>\n",
              "    <tr>\n",
              "      <th>0</th>\n",
              "      <td>Polgári Tisza-hid</td>\n",
              "      <td>2002</td>\n",
              "      <td>10.0</td>\n",
              "      <td>1.0</td>\n",
              "      <td>[[21.0552074392,47.8535623743],[21.0510017355,...</td>\n",
              "    </tr>\n",
              "    <tr>\n",
              "      <th>1</th>\n",
              "      <td>Szekszard Szent Laszlo-hid</td>\n",
              "      <td>2003</td>\n",
              "      <td>7.0</td>\n",
              "      <td>4.0</td>\n",
              "      <td>[[18.8875748594,46.3498790197],[18.887274452,4...</td>\n",
              "    </tr>\n",
              "    <tr>\n",
              "      <th>2</th>\n",
              "      <td>Dunaujvaros Pentele-hid</td>\n",
              "      <td>2007</td>\n",
              "      <td>7.0</td>\n",
              "      <td>23.0</td>\n",
              "      <td>[[18.9884702044,46.8892504416],[18.9010945635,...</td>\n",
              "    </tr>\n",
              "    <tr>\n",
              "      <th>3</th>\n",
              "      <td>M3 Fuzesabony-Polgar</td>\n",
              "      <td>2002</td>\n",
              "      <td>NaN</td>\n",
              "      <td>NaN</td>\n",
              "      <td>[[20.4282135249,47.7251911319],[20.4055542231,...</td>\n",
              "    </tr>\n",
              "    <tr>\n",
              "      <th>4</th>\n",
              "      <td>M3 Polgar-Gorbehaza</td>\n",
              "      <td>2004</td>\n",
              "      <td>9.0</td>\n",
              "      <td>NaN</td>\n",
              "      <td>[[21.2596564086,47.7818136227],[21.1813788207,...</td>\n",
              "    </tr>\n",
              "  </tbody>\n",
              "</table>\n",
              "</div>\n",
              "      <button class=\"colab-df-convert\" onclick=\"convertToInteractive('df-a5d6483c-0813-4199-bb12-709286ed405b')\"\n",
              "              title=\"Convert this dataframe to an interactive table.\"\n",
              "              style=\"display:none;\">\n",
              "        \n",
              "  <svg xmlns=\"http://www.w3.org/2000/svg\" height=\"24px\"viewBox=\"0 0 24 24\"\n",
              "       width=\"24px\">\n",
              "    <path d=\"M0 0h24v24H0V0z\" fill=\"none\"/>\n",
              "    <path d=\"M18.56 5.44l.94 2.06.94-2.06 2.06-.94-2.06-.94-.94-2.06-.94 2.06-2.06.94zm-11 1L8.5 8.5l.94-2.06 2.06-.94-2.06-.94L8.5 2.5l-.94 2.06-2.06.94zm10 10l.94 2.06.94-2.06 2.06-.94-2.06-.94-.94-2.06-.94 2.06-2.06.94z\"/><path d=\"M17.41 7.96l-1.37-1.37c-.4-.4-.92-.59-1.43-.59-.52 0-1.04.2-1.43.59L10.3 9.45l-7.72 7.72c-.78.78-.78 2.05 0 2.83L4 21.41c.39.39.9.59 1.41.59.51 0 1.02-.2 1.41-.59l7.78-7.78 2.81-2.81c.8-.78.8-2.07 0-2.86zM5.41 20L4 18.59l7.72-7.72 1.47 1.35L5.41 20z\"/>\n",
              "  </svg>\n",
              "      </button>\n",
              "      \n",
              "  <style>\n",
              "    .colab-df-container {\n",
              "      display:flex;\n",
              "      flex-wrap:wrap;\n",
              "      gap: 12px;\n",
              "    }\n",
              "\n",
              "    .colab-df-convert {\n",
              "      background-color: #E8F0FE;\n",
              "      border: none;\n",
              "      border-radius: 50%;\n",
              "      cursor: pointer;\n",
              "      display: none;\n",
              "      fill: #1967D2;\n",
              "      height: 32px;\n",
              "      padding: 0 0 0 0;\n",
              "      width: 32px;\n",
              "    }\n",
              "\n",
              "    .colab-df-convert:hover {\n",
              "      background-color: #E2EBFA;\n",
              "      box-shadow: 0px 1px 2px rgba(60, 64, 67, 0.3), 0px 1px 3px 1px rgba(60, 64, 67, 0.15);\n",
              "      fill: #174EA6;\n",
              "    }\n",
              "\n",
              "    [theme=dark] .colab-df-convert {\n",
              "      background-color: #3B4455;\n",
              "      fill: #D2E3FC;\n",
              "    }\n",
              "\n",
              "    [theme=dark] .colab-df-convert:hover {\n",
              "      background-color: #434B5C;\n",
              "      box-shadow: 0px 1px 3px 1px rgba(0, 0, 0, 0.15);\n",
              "      filter: drop-shadow(0px 1px 2px rgba(0, 0, 0, 0.3));\n",
              "      fill: #FFFFFF;\n",
              "    }\n",
              "  </style>\n",
              "\n",
              "      <script>\n",
              "        const buttonEl =\n",
              "          document.querySelector('#df-a5d6483c-0813-4199-bb12-709286ed405b button.colab-df-convert');\n",
              "        buttonEl.style.display =\n",
              "          google.colab.kernel.accessAllowed ? 'block' : 'none';\n",
              "\n",
              "        async function convertToInteractive(key) {\n",
              "          const element = document.querySelector('#df-a5d6483c-0813-4199-bb12-709286ed405b');\n",
              "          const dataTable =\n",
              "            await google.colab.kernel.invokeFunction('convertToInteractive',\n",
              "                                                     [key], {});\n",
              "          if (!dataTable) return;\n",
              "\n",
              "          const docLinkHtml = 'Like what you see? Visit the ' +\n",
              "            '<a target=\"_blank\" href=https://colab.research.google.com/notebooks/data_table.ipynb>data table notebook</a>'\n",
              "            + ' to learn more about interactive tables.';\n",
              "          element.innerHTML = '';\n",
              "          dataTable['output_type'] = 'display_data';\n",
              "          await google.colab.output.renderOutput(dataTable, element);\n",
              "          const docLink = document.createElement('div');\n",
              "          docLink.innerHTML = docLinkHtml;\n",
              "          element.appendChild(docLink);\n",
              "        }\n",
              "      </script>\n",
              "    </div>\n",
              "  </div>\n",
              "  "
            ],
            "text/plain": [
              "                         name  year  month   day  \\\n",
              "0           Polgári Tisza-hid  2002   10.0   1.0   \n",
              "1  Szekszard Szent Laszlo-hid  2003    7.0   4.0   \n",
              "2     Dunaujvaros Pentele-hid  2007    7.0  23.0   \n",
              "3        M3 Fuzesabony-Polgar  2002    NaN   NaN   \n",
              "4         M3 Polgar-Gorbehaza  2004    9.0   NaN   \n",
              "\n",
              "                                              points  \n",
              "0  [[21.0552074392,47.8535623743],[21.0510017355,...  \n",
              "1  [[18.8875748594,46.3498790197],[18.887274452,4...  \n",
              "2  [[18.9884702044,46.8892504416],[18.9010945635,...  \n",
              "3  [[20.4282135249,47.7251911319],[20.4055542231,...  \n",
              "4  [[21.2596564086,47.7818136227],[21.1813788207,...  "
            ]
          },
          "metadata": {},
          "execution_count": 5
        }
      ],
      "source": [
        "# reading road construction polygons\n",
        "road_construction = pd.read_csv('hungary_road_construction.csv',sep=\";\",index_col=None,header=None)\n",
        "road_construction.columns = [\"name\",\"year\",\"month\",\"day\",\"points\"]\n",
        "road_construction.head()"
      ]
    },
    {
      "cell_type": "markdown",
      "metadata": {
        "id": "KRs4gLXZxWmP"
      },
      "source": [
        " we don't need the columns month and day so I will remove them!"
      ]
    },
    {
      "cell_type": "code",
      "execution_count": 6,
      "metadata": {
        "id": "rkICradUy35j"
      },
      "outputs": [],
      "source": [
        "road_construction.drop(columns=['month' , 'day'] , inplace=True)\n",
        "#Years were string I changed them to int\n",
        "road_construction.year=road_construction.year.map(int)\n",
        "# converting list of list strings to actual Python objects\n",
        "road_construction[\"points\"] = road_construction[\"points\"].map(literal_eval)"
      ]
    },
    {
      "cell_type": "markdown",
      "metadata": {
        "id": "CLU0g-_xJ3pN"
      },
      "source": [
        "Load graph file from main roads data"
      ]
    },
    {
      "cell_type": "code",
      "execution_count": 8,
      "metadata": {
        "id": "9p6RyGYpffsd"
      },
      "outputs": [],
      "source": [
        "#Load the data that Eszter prepared\n",
        "Gs = ox.io.load_graphml(filepath='hungary_main_roads.graphml')\n",
        "nodes, edges = ox.graph_to_gdfs(Gs)"
      ]
    },
    {
      "cell_type": "markdown",
      "metadata": {
        "id": "cgcYj7MeJ8T6"
      },
      "source": [
        "Make the proper dataframe"
      ]
    },
    {
      "cell_type": "code",
      "execution_count": null,
      "metadata": {
        "id": "3Ve7k_6vOB0E"
      },
      "outputs": [],
      "source": [
        "# Convert that to geodataframe and use shapley to convert roads to line string\n",
        "gdf = gpd.GeoDataFrame(road_construction, crs={'init': 'EPSG:4326'}, geometry=road_construction['points'].apply(lambda x: LineString(x)))\n",
        "#delete column which is not needed\n",
        "gdf.drop(columns=['points'], inplace=True)\n",
        "#Join left the constructions to bring the year column\n",
        "intersections = gpd.sjoin(edges, gdf, how='left')\n",
        "#Values that are NAN to -100000 to make it workable\n",
        "intersections.year.fillna(-100000, inplace=True)\n"
      ]
    },
    {
      "cell_type": "code",
      "execution_count": 10,
      "metadata": {
        "id": "bl9DTM-kRsZe"
      },
      "outputs": [],
      "source": [
        "#make a directory for images\n",
        "!mkdir data"
      ]
    },
    {
      "cell_type": "code",
      "source": [
        "#Make data from 2002 to 2012\n",
        "for j in range(2002, 2013):\n",
        "    edges_year = intersections[intersections.year<=j]\n",
        "    graph=ox.graph_from_gdfs(nodes,edges_year)\n",
        "    ox.io.save_graphml(graph,'data/hungary_road_network_%s.graphml'%j)"
      ],
      "metadata": {
        "id": "nm__50jxAHHV"
      },
      "execution_count": 25,
      "outputs": []
    },
    {
      "cell_type": "code",
      "execution_count": null,
      "metadata": {
        "id": "EMhRdpdRg9wr"
      },
      "outputs": [],
      "source": [
        "#Make the zip from data folder\n",
        "! zip -r /content/hungary_road_construction.zip /content/data"
      ]
    }
  ],
  "metadata": {
    "colab": {
      "collapsed_sections": [],
      "name": "12-Hungary temporal road networks data.ipynb",
      "provenance": []
    },
    "kernelspec": {
      "display_name": "Python 3",
      "name": "python3"
    },
    "language_info": {
      "name": "python"
    }
  },
  "nbformat": 4,
  "nbformat_minor": 0
}